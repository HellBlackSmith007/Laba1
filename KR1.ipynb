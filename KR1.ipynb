{
  "nbformat": 4,
  "nbformat_minor": 0,
  "metadata": {
    "colab": {
      "name": "KR1.ipynb",
      "provenance": [],
      "collapsed_sections": [],
      "authorship_tag": "ABX9TyPMeBCe9CSqkf8rgvbmaqHa",
      "include_colab_link": true
    },
    "kernelspec": {
      "name": "python3",
      "display_name": "Python 3"
    }
  },
  "cells": [
    {
      "cell_type": "markdown",
      "metadata": {
        "id": "view-in-github",
        "colab_type": "text"
      },
      "source": [
        "<a href=\"https://colab.research.google.com/github/HellBlackSmith007/Laba1/blob/master/KR1.ipynb\" target=\"_parent\"><img src=\"https://colab.research.google.com/assets/colab-badge.svg\" alt=\"Open In Colab\"/></a>"
      ]
    },
    {
      "cell_type": "code",
      "metadata": {
        "id": "TcTbaE6aRCeo",
        "colab_type": "code",
        "colab": {}
      },
      "source": [
        "import numpy as np\n",
        "import scipy.stats as stats\n",
        "from sklearn.decomposition import PCA\n",
        "from sklearn import preprocessing"
      ],
      "execution_count": 0,
      "outputs": []
    },
    {
      "cell_type": "code",
      "metadata": {
        "id": "WHJdgBBnRNpN",
        "colab_type": "code",
        "colab": {}
      },
      "source": [
        "X = [1, 2, 3, 4, 5, 6, 7, 5, 4, 3, 1, 1, 5, 7, 5, 6, 1]\n",
        "num_of_states=7\n",
        "step = 4"
      ],
      "execution_count": 0,
      "outputs": []
    },
    {
      "cell_type": "code",
      "metadata": {
        "id": "jfbSYRolRDZw",
        "colab_type": "code",
        "colab": {}
      },
      "source": [
        "def state_iter(X, matrix):\n",
        "  for i in range(len(X)-1):\n",
        "    from_state, to_state = X[i]-1, X[i+1]-1\n",
        "    matrix[from_state][to_state]+=1\n",
        "\n",
        "def normalize(matrix):\n",
        "  n = len(matrix)\n",
        "  s=0\n",
        "  for row in range(n):\n",
        "    for col in range(n):\n",
        "      s+=matrix[row][col]\n",
        "    if s!=0:\n",
        "      for el in range(n):\n",
        "        matrix[row][el]/=s\n",
        "    s=0\n",
        "  return matrix\n",
        "\n",
        "def transition_matrix(X, n):\n",
        "  trans_mtrx = np.zeros((n, n))\n",
        "  state_iter(X, trans_mtrx)\n",
        "  trans_mtrx = normalize(trans_mtrx)\n",
        "  return trans_mtrx"
      ],
      "execution_count": 0,
      "outputs": []
    },
    {
      "cell_type": "code",
      "metadata": {
        "id": "fFver3TERF4E",
        "colab_type": "code",
        "outputId": "a6ce332f-f7cc-4cb2-bdc2-7417d2664fe8",
        "colab": {
          "base_uri": "https://localhost:8080/",
          "height": 544
        }
      },
      "source": [
        "Q = transition_matrix(X, num_of_states)\n",
        "print(\"Початкова матриця переходів\")\n",
        "print(Q)\n",
        "Q_step = np.linalg.matrix_power(Q, step)\n",
        "print(\" \\n Матриця переходів на {} ітерації\".format(step))\n",
        "print(Q_step)"
      ],
      "execution_count": 0,
      "outputs": [
        {
          "output_type": "stream",
          "text": [
            "Початкова матриця переходів\n",
            "[[0.33333333 0.33333333 0.         0.         0.33333333 0.\n",
            "  0.        ]\n",
            " [0.         0.         1.         0.         0.         0.\n",
            "  0.        ]\n",
            " [0.5        0.         0.         0.5        0.         0.\n",
            "  0.        ]\n",
            " [0.         0.         0.5        0.         0.5        0.\n",
            "  0.        ]\n",
            " [0.         0.         0.         0.25       0.         0.5\n",
            "  0.25      ]\n",
            " [0.5        0.         0.         0.         0.         0.\n",
            "  0.5       ]\n",
            " [0.         0.         0.         0.         1.         0.\n",
            "  0.        ]]\n",
            " \n",
            " Матриця переходів на 4 ітерації\n",
            "[[0.19984568 0.09567901 0.13425926 0.11689815 0.30401235 0.08101852\n",
            "  0.06828704]\n",
            " [0.18055556 0.05555556 0.16666667 0.22916667 0.05555556 0.20833333\n",
            "  0.10416667]\n",
            " [0.24768519 0.06018519 0.17013889 0.09722222 0.27893519 0.02777778\n",
            "  0.11805556]\n",
            " [0.16319444 0.06944444 0.08333333 0.19270833 0.19444444 0.19791667\n",
            "  0.09895833]\n",
            " [0.14236111 0.04861111 0.16145833 0.08333333 0.22048611 0.16666667\n",
            "  0.17708333]\n",
            " [0.26851852 0.01851852 0.13888889 0.09722222 0.26851852 0.02777778\n",
            "  0.18055556]\n",
            " [0.14583333 0.08333333 0.         0.15625    0.33333333 0.1875\n",
            "  0.09375   ]]\n"
          ],
          "name": "stdout"
        }
      ]
    }
  ]
}